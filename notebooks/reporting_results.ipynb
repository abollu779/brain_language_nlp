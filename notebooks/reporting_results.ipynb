{
 "cells": [
  {
   "cell_type": "code",
   "execution_count": null,
   "metadata": {},
   "outputs": [],
   "source": [
    "import numpy as np\n",
    "from scipy import stats\n",
    "import statsmodels.stats.multitest\n",
    "import matplotlib.pyplot as plt"
   ]
  },
  {
   "cell_type": "markdown",
   "metadata": {},
   "source": [
    "### Gather Correlation Data"
   ]
  },
  {
   "cell_type": "code",
   "execution_count": null,
   "metadata": {},
   "outputs": [],
   "source": [
    "encoding_models = ['linear', 'nonlinear_sharedhidden']\n",
    "subjects = ['F', 'H', 'I', 'J', 'K', 'L', 'M', 'N']\n",
    "rois = ['PostTemp', 'AntTemp', 'AngularG', 'IFG', 'MFG', 'IFGorb', 'pCingulate', 'dmpfc', 'NonROI']\n",
    "layer, seq_len, use_ridge, roi_only, batch_size = 8, 10, True, True, 32\n",
    "roi_masks = np.load('../HP_subj_roi_inds.npy', allow_pickle=True)"
   ]
  },
  {
   "cell_type": "code",
   "execution_count": null,
   "metadata": {},
   "outputs": [],
   "source": [
    "roi_folder = 'roi_voxels' if roi_only else 'all_voxels'\n",
    "ridge_str = '' if use_ridge else '_noridge'\n",
    "batch_str = 'nobatch' if (batch_size is None) else 'batch{}'.format(batch_size)\n",
    "for model in encoding_models:\n",
    "    print(\"Model: {}\".format(model))\n",
    "    for roi in rois:\n",
    "        print(\"ROI: {}\".format(roi))\n",
    "        for sub in subjects:\n",
    "            experiment_name = 'subject{}_bert_layer{}_len{}_{}{}_{}'.format(sub, layer, seq_len, model, ridge_str, batch_str)\n",
    "            output_path = '../fmri_preds/{}/{}/final_predictions.npy'.format(roi_folder, experiment_name)\n",
    "            corrs = np.nanmean(np.load(output_path, allow_pickle=True).item()['corrs_t'], 0) # Average across four folds\n",
    "            if roi == 'NonROI':\n",
    "                roi_mask = ~(roi_masks.item()[sub]['all'])\n",
    "            else:\n",
    "                roi_mask = roi_masks.item()[sub][roi]\n",
    "            roi_corrs = corrs[roi_mask]"
   ]
  },
  {
   "cell_type": "code",
   "execution_count": null,
   "metadata": {},
   "outputs": [],
   "source": [
    "# Print Mean Correlations\n",
    "# for roi in rois:\n",
    "#     print('{} Corrs:'.format(roi))\n",
    "#     mean_lin_corr = np.array(mean_stats['linear'][roi]).mean()\n",
    "#     mean_nonlin_corr = np.array(mean_stats['nonlinear_sharedhidden'][roi]).mean()\n",
    "#     stddev_lin_corr = np.std(np.array(mean_stats['linear'][roi]))\n",
    "#     stddev_nonlin_corr = np.std(np.array(mean_stats['nonlinear_sharedhidden'][roi]))\n",
    "#     print(\"Lin={}\\nNonlin={}\".format(mean_stats['linear'][roi], mean_stats['nonlinear_sharedhidden'][roi]))\n",
    "#     print(\"Mean: Lin={}; NonLin={}\".format(mean_lin_corr, mean_nonlin_corr))\n",
    "#     print(\"StdDev: Lin={}; NonLin={}\".format(stddev_lin_corr, stddev_nonlin_corr))\n",
    "#     print('\\n')"
   ]
  },
  {
   "cell_type": "code",
   "execution_count": null,
   "metadata": {},
   "outputs": [],
   "source": [
    "fig, axs = plt.subplots(3, 3, sharex=True, sharey=True, figsize=(20,15))\n",
    "for idx in range(len(rois)):\n",
    "    roi = rois[idx]\n",
    "    i = idx//3\n",
    "    j = idx%3\n",
    "    axs[i,j].set_title('{} Mean Correlations'.format(roi))\n",
    "    axs[i,j].bar([a for a in range(len(mean_stats['linear'][roi]))], mean_stats['linear'][roi], align='center', width=0.4)\n",
    "    axs[i,j].bar([a+0.4 for a in range(len(mean_stats['nonlinear_sharedhidden'][roi]))], mean_stats['nonlinear_sharedhidden'][roi], align='center', width=0.4)\n",
    "    axs[i,j].set_ylim(0.0, 0.2)\n",
    "    axs[i,j].set_xticks(range(len(subjects)))\n",
    "    axs[i,j].set_xticklabels(subjects)\n",
    "    if i == 0 and j == 0:\n",
    "        colors = {'linear':'tab:blue', 'nonlinear_sharedhidden':'tab:orange'}         \n",
    "        labels = list(colors.keys())\n",
    "        handles = [plt.Rectangle((0,0),1,1, color=colors[label]) for label in labels]\n",
    "        axs[i,j].legend(handles, labels)\n",
    "plt.show()"
   ]
  },
  {
   "cell_type": "markdown",
   "metadata": {},
   "source": [
    "## Perform paired t-tests"
   ]
  },
  {
   "cell_type": "code",
   "execution_count": null,
   "metadata": {},
   "outputs": [],
   "source": [
    "ts, pvals = [], []\n",
    "for roi in rois:\n",
    "    linear_corrs = mean_stats['linear'][roi]\n",
    "    linear_sgd_corrs = mean_stats['nonlinear_sharedhidden'][roi]\n",
    "    t, pval = stats.ttest_rel(linear_corrs, linear_sgd_corrs)\n",
    "    ts.append(t)\n",
    "    pvals.append(pval)\n",
    "    print(roi, t, pval)"
   ]
  },
  {
   "cell_type": "code",
   "execution_count": null,
   "metadata": {},
   "outputs": [],
   "source": [
    "one_sided_pvals = [pval/2 for pval in pvals]\n",
    "print(\"One-Sided P-values:\\n\", one_sided_pvals)\n",
    "adjusted_pvals = statsmodels.stats.multitest.multipletests(one_sided_pvals, alpha=0.05, method='fdr_bh')\n",
    "print(\"Adjusted P-values:\\n\", adjusted_pvals)"
   ]
  },
  {
   "cell_type": "code",
   "execution_count": null,
   "metadata": {},
   "outputs": [],
   "source": [
    "# Print paired t-test results\n",
    "for roi_idx in range(len(rois)):\n",
    "    print(\"{}: \\n adjusted p-val={}, reject={}\".format(rois[roi_idx], adjusted_pvals[1][roi_idx], adjusted_pvals[0][roi_idx]))"
   ]
  }
 ],
 "metadata": {
  "kernelspec": {
   "display_name": "env",
   "language": "python",
   "name": "env"
  },
  "language_info": {
   "codemirror_mode": {
    "name": "ipython",
    "version": 3
   },
   "file_extension": ".py",
   "mimetype": "text/x-python",
   "name": "python",
   "nbconvert_exporter": "python",
   "pygments_lexer": "ipython3",
   "version": "3.8.6"
  }
 },
 "nbformat": 4,
 "nbformat_minor": 4
}
