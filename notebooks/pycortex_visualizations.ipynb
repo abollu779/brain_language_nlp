{
 "cells": [
  {
   "cell_type": "code",
   "execution_count": 1,
   "metadata": {},
   "outputs": [],
   "source": [
    "import cortex\n",
    "import numpy as np"
   ]
  },
  {
   "cell_type": "code",
   "execution_count": 2,
   "metadata": {},
   "outputs": [],
   "source": [
    "surfaces = dict( F = 'fMRI_story_F',\n",
    "\tG = 'fMRI_story_G',\n",
    "\tH = 'fMRI_story_H',\n",
    "\tI = 'fMRI_story_I',\n",
    "\tJ = 'fMRI_story_J',\n",
    "\tK = 'fMRI_story_K',\n",
    "\tL = 'fMRI_story_L',\n",
    "\tM = 'fMRI_story_M',\n",
    "\tN = 'fMRI_story_N')\n",
    "\n",
    "transforms = dict( F = 'F_ars_auto2',\n",
    "\tG = 'G_ars_auto2',\n",
    "\tH = 'H_ars_auto2',\n",
    "\tI = 'I_ars_auto2',\n",
    "\tJ = 'J_ars_auto2',\n",
    "\tK = 'K_ars_auto2',\n",
    "\tL = 'L_ars_auto2',\n",
    "\tM = 'M_ars_auto2',\n",
    "\tN = 'N_ars_auto2')\n",
    "\n",
    "vols = {}"
   ]
  },
  {
   "cell_type": "code",
   "execution_count": 3,
   "metadata": {},
   "outputs": [],
   "source": [
    "def roi_to_allvoxels(sub, rois, roi_array):\n",
    "    n_folds = roi_array.shape[0]\n",
    "    n_voxels = rois.item()[sub]['all'].shape[0]\n",
    "    allvoxel_array = np.zeros((n_folds, n_voxels))\n",
    "    allvoxel_array[:] = np.nan\n",
    "    roi_ids = np.where(rois.item()[sub]['all'] == 1)\n",
    "    for i in range(n_folds):\n",
    "        allvoxel_array[i, roi_ids] = roi_array[i]\n",
    "    return allvoxel_array"
   ]
  },
  {
   "cell_type": "code",
   "execution_count": 7,
   "metadata": {},
   "outputs": [],
   "source": [
    "sub, layer, seq_len, encoding_model, use_ridge, roi_only = 'I', 8, 10, 'nonlinear_sharedhidden', True, True\n",
    "roi_folder = 'roi_voxels' if roi_only else 'all_voxels'\n",
    "ridge_suffix = '' if use_ridge else '_noridge'\n",
    "experiment_name = 'subject{}_bert_layer{}_len{}_{}{}'.format(sub, layer, seq_len, encoding_model, ridge_suffix)\n",
    "output_path = '../fmri_preds/{}/{}/final_predictions.npy'.format(roi_folder, experiment_name)\n",
    "corrs = np.load(output_path, allow_pickle=True).item()['corrs']\n",
    "if roi_only:\n",
    "    rois = np.load('../data/HP_subj_roi_inds.npy', allow_pickle=True)\n",
    "    corrs = roi_to_allvoxels(sub, rois, corrs)"
   ]
  },
  {
   "cell_type": "code",
   "execution_count": 8,
   "metadata": {},
   "outputs": [],
   "source": [
    "mask = cortex.db.get_mask(surfaces[sub], transforms[sub], 'thin')\n",
    "vols[experiment_name] = cortex.Volume(corrs.mean(0), surfaces[sub], transforms[sub], mask=mask, vmin=0, vmax=0.3, cmap='viridis')"
   ]
  },
  {
   "cell_type": "code",
   "execution_count": 9,
   "metadata": {},
   "outputs": [
    {
     "name": "stdout",
     "output_type": "stream",
     "text": [
      "Started server on port 12679\n"
     ]
    },
    {
     "data": {
      "text/plain": [
       "<JS: window.viewer>"
      ]
     },
     "execution_count": 9,
     "metadata": {},
     "output_type": "execute_result"
    }
   ],
   "source": [
    "cortex.webshow(vols)"
   ]
  },
  {
   "cell_type": "code",
   "execution_count": null,
   "metadata": {},
   "outputs": [],
   "source": []
  }
 ],
 "metadata": {
  "kernelspec": {
   "display_name": "env",
   "language": "python",
   "name": "env"
  },
  "language_info": {
   "codemirror_mode": {
    "name": "ipython",
    "version": 3
   },
   "file_extension": ".py",
   "mimetype": "text/x-python",
   "name": "python",
   "nbconvert_exporter": "python",
   "pygments_lexer": "ipython3",
   "version": "3.8.6"
  }
 },
 "nbformat": 4,
 "nbformat_minor": 4
}
