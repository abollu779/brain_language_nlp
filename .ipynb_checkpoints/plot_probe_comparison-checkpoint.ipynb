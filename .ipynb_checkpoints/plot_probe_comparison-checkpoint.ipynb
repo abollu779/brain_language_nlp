{
 "cells": [
  {
   "cell_type": "code",
   "execution_count": 1,
   "metadata": {},
   "outputs": [],
   "source": [
    "import argparse\n",
    "import numpy as np\n",
    "import matplotlib.pyplot as plt\n",
    "import matplotlib.lines as mlines\n",
    "import matplotlib.transforms as mtransforms\n",
    "import pickle as pk"
   ]
  },
  {
   "cell_type": "markdown",
   "metadata": {},
   "source": [
    "### Arguments"
   ]
  },
  {
   "cell_type": "code",
   "execution_count": 3,
   "metadata": {},
   "outputs": [],
   "source": [
    "subject = 'F'\n",
    "layer = 1\n",
    "context_length = 1\n",
    "# voxels_options = ['ALLROI', 'POSTTEMP', 'ANTTEMP', 'ANGULARG', 'IFG', 'MFG', 'IFGORB', 'PCINGULATE', 'DMPFC']\n",
    "voxels_type = 'ALLROI'"
   ]
  },
  {
   "cell_type": "markdown",
   "metadata": {},
   "source": [
    "# Correlation Plots"
   ]
  },
  {
   "cell_type": "markdown",
   "metadata": {},
   "source": [
    "#### linear data"
   ]
  },
  {
   "cell_type": "code",
   "execution_count": null,
   "metadata": {},
   "outputs": [],
   "source": [
    "linear_output = np.load('encoder_preds/predict_{}_with_bert_layer_{}_len_{}_encoder_linear.npy'.format(subject, layer, context_length), allow_pickle=True)\n",
    "linear_corrs = linear_output.item()['corrs_t']"
   ]
  },
  {
   "cell_type": "markdown",
   "metadata": {},
   "source": [
    "#### mlp_initial data"
   ]
  },
  {
   "cell_type": "code",
   "execution_count": null,
   "metadata": {},
   "outputs": [],
   "source": [
    "mlp_initial_output = np.load('encoder_preds/predict_{}_with_bert_layer_{}_len_{}_encoder_mlp_initial.npy'.format(subject, layer, context_length), allow_pickle=True)\n",
    "mlp_initial_corrs = mlp_initial_output.item()['corrs_t']"
   ]
  },
  {
   "cell_type": "markdown",
   "metadata": {},
   "source": [
    "#### mlp_smallerhiddensize data"
   ]
  },
  {
   "cell_type": "code",
   "execution_count": null,
   "metadata": {},
   "outputs": [],
   "source": [
    "mlp_smallerhiddensize_output = np.load('encoder_preds/predict_{}_with_bert_layer_{}_len_{}_encoder_mlp_smallerhiddensize.npy'.format(subject, layer, context_length), allow_pickle=True)\n",
    "mlp_smallerhiddensize_corrs = mlp_smallerhiddensize_output.item()['corrs_t']"
   ]
  },
  {
   "cell_type": "markdown",
   "metadata": {},
   "source": [
    "#### mlp_largerhiddensize data"
   ]
  },
  {
   "cell_type": "code",
   "execution_count": null,
   "metadata": {},
   "outputs": [],
   "source": [
    "mlp_largerhiddensize_output = np.load('encoder_preds/predict_{}_with_bert_layer_{}_len_{}_encoder_mlp_largerhiddensize.npy'.format(subject, layer, context_length), allow_pickle=True)\n",
    "mlp_largerhiddensize_corrs = mlp_largerhiddensize_output.item()['corrs_t']"
   ]
  },
  {
   "cell_type": "markdown",
   "metadata": {},
   "source": [
    "#### mlp_additionalhiddenlayer data"
   ]
  },
  {
   "cell_type": "code",
   "execution_count": null,
   "metadata": {},
   "outputs": [],
   "source": [
    "mlp_additionalhiddenlayer_output = np.load('encoder_preds/predict_{}_with_bert_layer_{}_len_{}_encoder_mlp_additionalhiddenlayer.npy'.format(subject, layer, context_length), allow_pickle=True)\n",
    "mlp_additionalhiddenlayer_corrs = mlp_additionalhiddenlayer_output.item()['corrs_t']"
   ]
  },
  {
   "cell_type": "markdown",
   "metadata": {},
   "source": [
    "#### mlp_allvoxels data"
   ]
  },
  {
   "cell_type": "code",
   "execution_count": null,
   "metadata": {},
   "outputs": [],
   "source": [
    "mlp_allvoxels_output = np.load('encoder_preds/predict_{}_with_bert_layer_{}_len_{}_encoder_mlp_allvoxels.npy'.format(subject, layer, context_length), allow_pickle=True)\n",
    "mlp_allvoxels_corrs = mlp_allvoxels_output.item()['corrs_t']"
   ]
  },
  {
   "cell_type": "markdown",
   "metadata": {},
   "source": [
    "If you want to restrict to comparing probe correlations for just ROI voxels:"
   ]
  },
  {
   "cell_type": "code",
   "execution_count": null,
   "metadata": {},
   "outputs": [],
   "source": [
    "# Example Code: Need to replace corrs with the appropriate corrs variable from above\n",
    "rois = np.load('../HP_subj_roi_inds.npy', allow_pickle=True)\n",
    "corrs = corrs[:, np.where(rois.item()[subject]['all'] == 1)[0]]"
   ]
  },
  {
   "cell_type": "code",
   "execution_count": null,
   "metadata": {},
   "outputs": [],
   "source": [
    "def get_X_Y(corrs_probe1, corrs_probe2, subject, voxels_type):\n",
    "    corrs_avg_1 = np.nanmean(corrs_probe1, axis=0)\n",
    "    corrs_avg_2 = np.nanmean(corrs_probe2, axis=0)\n",
    "\n",
    "    X = corrs_avg_1\n",
    "    Y = corrs_avg_2\n",
    "\n",
    "    X[np.where(np.isnan(X) == 1)] = 0\n",
    "    Y[np.where(np.isnan(Y) == 1)] = 0\n",
    "\n",
    "    rois = np.load('../HP_subj_roi_inds.npy', allow_pickle=True)\n",
    "\n",
    "    if voxels_type != 'ALLROI':\n",
    "        if voxels_type == 'POSTTEMP':\n",
    "            mask = rois.item()[subject]['PostTemp'][np.where(rois.item()[subject]['all'] > 0)[0]]\n",
    "        elif voxels_type == 'ANTTEMP':\n",
    "            mask = rois.item()[subject]['AntTemp'][np.where(rois.item()[subject]['all'] > 0)[0]]\n",
    "        elif voxels_type == 'ANGULARG':\n",
    "            mask = rois.item()[subject]['AngularG'][np.where(rois.item()[subject]['all'] > 0)[0]]\n",
    "        elif voxels_type == 'IFG':\n",
    "            mask = rois.item()[subject]['IFG'][np.where(rois.item()[subject]['all'] > 0)[0]]\n",
    "        elif voxels_type == 'MFG':\n",
    "            mask = rois.item()[subject]['MFG'][np.where(rois.item()[subject]['all'] > 0)[0]]\n",
    "        elif voxels_type == 'IFGORB':\n",
    "            mask = rois.item()[subject]['IFGorb'][np.where(rois.item()[subject]['all'] > 0)[0]]\n",
    "        elif voxels_type == 'PCINGULATE':\n",
    "            mask = rois.item()[subject]['pCingulate'][np.where(rois.item()[subject]['all'] > 0)[0]]\n",
    "        elif voxels_type == 'DMPFC':\n",
    "            mask = rois.item()[subject]['dmpfc'][np.where(rois.item()[subject]['all'] > 0)[0]]\n",
    "        X = np.ma.masked_equal(mask * corrs_avg_1, 0).compressed()\n",
    "        Y = np.ma.masked_equal(mask * corrs_avg_2, 0).compressed()\n",
    "    return X, Y"
   ]
  },
  {
   "cell_type": "code",
   "execution_count": 4,
   "metadata": {},
   "outputs": [],
   "source": [
    "def plot_correlations(X, Y, subject, voxels_type, x_label, y_label):\n",
    "    delete_indices = np.where((np.isnan(X) == 1) | (np.isnan(Y) == 1))\n",
    "    X = np.delete(X, delete_indices, 0)\n",
    "    Y = np.delete(Y, delete_indices, 0)\n",
    "\n",
    "    # Best fit line data\n",
    "    X_above_zero = X[(X > 0) | (Y > 0)]\n",
    "    Y_above_zero = Y[(X > 0) | (Y > 0)]\n",
    "    xmin = X_above_zero.min()\n",
    "    xmax = X_above_zero.max()\n",
    "    slope, y_intercept = np.polyfit(X_above_zero, Y_above_zero, deg=1)\n",
    "    x_0, y_0, x_1, y_1 = xmin, slope*xmin+y_intercept, xmax, slope*xmax+y_intercept\n",
    "\n",
    "    fig, ax = plt.subplots()\n",
    "    \n",
    "    ax.scatter(X, Y)\n",
    "    bf_line = mlines.Line2D([x_0, x_1], [y_0, y_1], color='black')\n",
    "    line = mlines.Line2D([0, 1], [0, 1], color='red')\n",
    "    transform = ax.transAxes\n",
    "    line.set_transform(transform)\n",
    "    ax.add_line(bf_line)\n",
    "    ax.add_line(line)\n",
    "\n",
    "    plt.title('{} vs {} Correlations: Subject {} - {} Voxels'.format(x_label, y_label, subject, voxels_type))\n",
    "    plt.xlabel('{} corrs'.format(x_label))\n",
    "    plt.ylabel('{} corrs'.format(y_label))\n",
    "    plt.xlim(-0.25, 0.5)\n",
    "    plt.ylim(-0.25, 0.5)\n",
    "    plt.show()"
   ]
  },
  {
   "cell_type": "code",
   "execution_count": null,
   "metadata": {},
   "outputs": [],
   "source": [
    "corrs_X, probename_X = linear_corrs, 'linear'\n",
    "corrs_Y, probename_Y = mlp_initial_corrs, 'mlp_initial'\n",
    "\n",
    "X, Y = get_X_Y(corrs_X, corrs_Y, subject, voxels_type)\n",
    "plot_correlations(X, Y, subject, voxels_type, probename_X, probename_Y)"
   ]
  },
  {
   "cell_type": "markdown",
   "metadata": {},
   "source": [
    "# Accuracy Plots"
   ]
  },
  {
   "cell_type": "code",
   "execution_count": 5,
   "metadata": {},
   "outputs": [],
   "source": [
    "# linear_accs = pk.load(open('final_accs/no_neighborhood_acc_{}_with_bert_layer_1_len_1_encoder_mlp_initial_accs_ROI.pkl'.format(args.subject), 'rb'))\n",
    "# mlp_accs = pk.load(open('final_accs/no_neighborhood_acc_{}_with_bert_layer_1_len_1_encoder_mlp_allvoxels_accs_ROI.pkl'.format(args.subject), 'rb'))\n",
    "# linear_accs_avg = linear_accs.mean(0)\n",
    "# mlp_accs_avg = mlp_accs.mean(0)\n",
    "# rois = np.load('../HP_subj_roi_inds.npy', allow_pickle=True)\n",
    "# linear_accs_avg = linear_accs_avg[np.where(rois.item()[args.subject]['all'] == 1)[0]]\n",
    "# mlp_accs_avg = mlp_accs_avg[np.where(rois.item()[args.subject]['all'] == 1)[0]]"
   ]
  },
  {
   "cell_type": "code",
   "execution_count": 6,
   "metadata": {},
   "outputs": [],
   "source": [
    "def plot_accuracies(X, Y, subject, voxels_type, x_label, y_label):\n",
    "    X = np.delete(X, np.where(np.isnan(Y) == 1), 0)\n",
    "    Y = np.delete(Y, np.where(np.isnan(Y) == 1), 0)\n",
    "\n",
    "    # Best fit line data\n",
    "    X_above_half = X[(X > 0.5) | (Y > 0.5)]\n",
    "    Y_above_half = Y[(X > 0.5) | (Y > 0.5)]\n",
    "    xmin = X_above_half.min()\n",
    "    xmax = X_above_half.max()\n",
    "    slope, y_intercept = np.polyfit(X_above_half, Y_above_half, deg=1)\n",
    "    x_0, y_0, x_1, y_1 = xmin, slope*xmin+y_intercept, xmax, slope*xmax+y_intercept\n",
    "\n",
    "    fig, ax = plt.subplots()\n",
    "    ax.scatter(X, Y)\n",
    "\n",
    "    bf_line = mlines.Line2D([x_0, x_1], [y_0, y_1], color='black')\n",
    "    line = mlines.Line2D([0, 1], [0, 1], color='red')\n",
    "    transform = ax.transAxes\n",
    "    # bf_line.set_transform(transform)\n",
    "    line.set_transform(transform)\n",
    "\n",
    "    ax.add_line(bf_line)\n",
    "    ax.add_line(line)\n",
    "\n",
    "    plt.title('{} vs {} Accuracies (No Neighborhood): Subject {} - {} Voxels'.format(x_label, y_label, subject, voxels_type))\n",
    "    plt.xlabel('{} accs'.format(x_label))\n",
    "    plt.ylabel('{} accs'.format(y_label))\n",
    "    plt.xlim(0, 1)\n",
    "    plt.ylim(0, 1)\n",
    "    plt.show()"
   ]
  },
  {
   "cell_type": "code",
   "execution_count": null,
   "metadata": {},
   "outputs": [],
   "source": [
    "# plot_accuracies(linear_accs_avg, mlp_accs_avg, args.subject, args.voxels_type, 'mlp_initial', 'mlp_allvoxels')"
   ]
  }
 ],
 "metadata": {
  "kernelspec": {
   "display_name": "env",
   "language": "python",
   "name": "env"
  },
  "language_info": {
   "codemirror_mode": {
    "name": "ipython",
    "version": 3
   },
   "file_extension": ".py",
   "mimetype": "text/x-python",
   "name": "python",
   "nbconvert_exporter": "python",
   "pygments_lexer": "ipython3",
   "version": "3.7.3"
  }
 },
 "nbformat": 4,
 "nbformat_minor": 4
}
