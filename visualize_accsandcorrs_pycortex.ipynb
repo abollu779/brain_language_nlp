{
 "cells": [
  {
   "cell_type": "code",
   "execution_count": 74,
   "metadata": {},
   "outputs": [],
   "source": [
    "import cortex\n",
    "import numpy as np"
   ]
  },
  {
   "cell_type": "code",
   "execution_count": 75,
   "metadata": {},
   "outputs": [],
   "source": [
    "surfaces = dict( F = 'fMRI_story_F',\n",
    "\tG = 'fMRI_story_G',\n",
    "\tH = 'fMRI_story_H',\n",
    "\tI = 'fMRI_story_I',\n",
    "\tJ = 'fMRI_story_J',\n",
    "\tK = 'fMRI_story_K',\n",
    "\tL = 'fMRI_story_L',\n",
    "\tM = 'fMRI_story_M',\n",
    "\tN = 'fMRI_story_N')\n",
    "\n",
    "transforms = dict( F = 'F_ars_auto2',\n",
    "\tG = 'G_ars_auto2',\n",
    "\tH = 'H_ars_auto2',\n",
    "\tI = 'I_ars_auto2',\n",
    "\tJ = 'J_ars_auto2',\n",
    "\tK = 'K_ars_auto2',\n",
    "\tL = 'L_ars_auto2',\n",
    "\tM = 'M_ars_auto2',\n",
    "\tN = 'N_ars_auto2')\n",
    "\n",
    "vols = {}"
   ]
  },
  {
   "cell_type": "code",
   "execution_count": 76,
   "metadata": {},
   "outputs": [],
   "source": [
    "def roi_to_allvoxels(rois, roi_array):\n",
    "    num_folds = roi_array.shape[0]\n",
    "    num_voxels = rois.item()['F']['all'].shape[0]\n",
    "    allvoxel_array = np.zeros((num_folds, num_voxels))\n",
    "    allvoxel_array[:] = np.nan\n",
    "    roi_ids = np.where(rois.item()['F']['all'] == 1)\n",
    "    for i in range(num_folds):\n",
    "        allvoxel_array[i, roi_ids] = roi_array[i]\n",
    "    return allvoxel_array"
   ]
  },
  {
   "cell_type": "code",
   "execution_count": 77,
   "metadata": {},
   "outputs": [],
   "source": [
    "sub = 'F'\n",
    "mask = cortex.db.get_mask(surfaces[sub], transforms[sub], 'thin')\n",
    "rois = np.load('../HP_subj_roi_inds.npy', allow_pickle=True)"
   ]
  },
  {
   "cell_type": "markdown",
   "metadata": {},
   "source": [
    "## Load Relevant Correlation and/or Accuracy Data"
   ]
  },
  {
   "cell_type": "code",
   "execution_count": 78,
   "metadata": {},
   "outputs": [],
   "source": [
    "################################ \n",
    "#         linear data          #\n",
    "################################\n",
    "# lin_neighborhood_loaded = np.load('final_accs/acc_F_with_bert_layer_8_len_10_encoder_linear_accs_ROI.pkl', allow_pickle=True)\n",
    "# lin_noneighborhood_loaded = np.load('final_accs/no_neighborhood_acc_F_with_bert_layer_8_len_10_encoder_linear_accs_ROI.pkl', allow_pickle=True)\n",
    "lin_output_loaded = np.load('encoder_preds/predict_F_with_bert_layer_1_len_1_encoder_linear.npy', allow_pickle=True).item()\n",
    "lin_preds_loaded = lin_output_loaded['preds_t']\n",
    "# lin_corrs_loaded = lin_output_loaded['corrs_t']\n",
    "\n",
    "################################ \n",
    "#       mlp_initial data       #\n",
    "################################\n",
    "# mlp_neighborhood_loaded = np.load('final_accs/acc_F_with_bert_layer_1_len_1_encoder_mlp_initial_accs_ALL.pkl', allow_pickle=True)\n",
    "# mlp_noneighborhood_loaded = np.load('final_accs/no_neighborhood_acc_F_with_bert_layer_1_len_1_encoder_mlp_initial_accs_ALL.pkl', allow_pickle=True)\n",
    "mlp_output_loaded = np.load('encoder_preds/predict_F_with_bert_layer_1_len_1_encoder_mlp_initial.npy', allow_pickle=True).item()\n",
    "mlp_preds_loaded = mlp_output_loaded['preds_t']\n",
    "# mlp_corrs_loaded = mlp_output_loaded['corrs_t']\n",
    "\n",
    "################################ \n",
    "#       mlp_allvoxels data     #\n",
    "################################\n",
    "# mlp_allvoxels_neighborhood_loaded = np.load('final_accs/acc_F_with_bert_layer_1_len_1_encoder_mlp_allvoxels_accs_ALL.pkl', allow_pickle=True)\n",
    "# mlp_allvoxels_noneighborhood_loaded = np.load('final_accs/no_neighborhood_acc_F_with_bert_layer_1_len_1_encoder_mlp_allvoxels_accs_ALL.pkl', allow_pickle=True)\n",
    "mlp_allvoxels_output_loaded = np.load('encoder_preds/predict_F_with_bert_layer_1_len_1_encoder_mlp_allvoxels.npy', allow_pickle=True).item()\n",
    "mlp_allvoxels_preds_loaded = mlp_allvoxels_output_loaded['preds_t']\n",
    "# mlp_allvoxels_corrs_loaded = mlp_allvoxels_output_loaded['corrs_t']"
   ]
  },
  {
   "cell_type": "markdown",
   "metadata": {},
   "source": [
    "If using only ROI correlations/accuracies, extend array size with nans for all other voxels:"
   ]
  },
  {
   "cell_type": "code",
   "execution_count": 6,
   "metadata": {},
   "outputs": [],
   "source": [
    "# lin_noneighborhood_loaded = roi_to_allvoxels(rois, lin_noneighborhood_loaded)\n",
    "# lin_corrs_loaded = roi_to_allvoxels(rois, lin_corrs_loaded)\n",
    "# mlp_noneighborhood_loaded = roi_to_allvoxels(rois, mlp_noneighborhood_loaded)\n",
    "# mlp_corrs_loaded = roi_to_allvoxels(rois, mlp_corrs_loaded)\n",
    "# mlp_allvoxels_noneighborhood_loaded = roi_to_allvoxels(rois, mlp_allvoxels_noneighborhood_loaded)\n",
    "# mlp_allvoxels_corrs_loaded = roi_to_allvoxels(rois, mlp_allvoxels_corrs_loaded)"
   ]
  },
  {
   "cell_type": "code",
   "execution_count": null,
   "metadata": {},
   "outputs": [],
   "source": [
    "### PLOTTING STD DEVIATIONS ####"
   ]
  },
  {
   "cell_type": "code",
   "execution_count": 84,
   "metadata": {},
   "outputs": [],
   "source": [
    "def CV_ind(n, n_folds):\n",
    "    ind = np.zeros((n))\n",
    "    n_items = int(np.floor(n/n_folds))\n",
    "    for i in range(0,n_folds -1):\n",
    "        ind[i*n_items:(i+1)*n_items] = i\n",
    "    ind[(n_folds-1)*n_items:] = (n_folds-1)\n",
    "    return ind\n",
    "\n",
    "def fold_voxels_stderr(ind_num, n_folds, preds):\n",
    "    n = preds.shape[0]\n",
    "    ind = CV_ind(n, n_folds)\n",
    "    preds_ind = ind==ind_num\n",
    "    fold_preds = preds[preds_ind]\n",
    "    print(np.std(fold_preds, 0))\n",
    "    where_stderr_zero = (np.std(fold_preds, 0) != 0)\n",
    "    return where_stderr_zero\n",
    "\n",
    "lin_fold0 = fold_voxels_stderr(0, 4, lin_preds_loaded)\n",
    "lin_fold1 = fold_voxels_stderr(1, 4, lin_preds_loaded)\n",
    "lin_fold2 = fold_voxels_stderr(2, 4, lin_preds_loaded)\n",
    "lin_fold3 = fold_voxels_stderr(3, 4, lin_preds_loaded)\n",
    "\n",
    "mlp_fold0 = fold_voxels_stderr(0, 4, mlp_preds_loaded)\n",
    "mlp_fold1 = fold_voxels_stderr(1, 4, mlp_preds_loaded)\n",
    "mlp_fold2 = fold_voxels_stderr(2, 4, mlp_preds_loaded)\n",
    "mlp_fold3 = fold_voxels_stderr(3, 4, mlp_preds_loaded)\n",
    "\n",
    "mlp_allvoxels_fold0 = fold_voxels_stderr(0, 4, mlp_allvoxels_preds_loaded)\n",
    "mlp_allvoxels_fold1 = fold_voxels_stderr(1, 4, mlp_allvoxels_preds_loaded)\n",
    "mlp_allvoxels_fold2 = fold_voxels_stderr(2, 4, mlp_allvoxels_preds_loaded)\n",
    "mlp_allvoxels_fold3 = fold_voxels_stderr(3, 4, mlp_allvoxels_preds_loaded)"
   ]
  },
  {
   "cell_type": "code",
   "execution_count": 89,
   "metadata": {},
   "outputs": [
    {
     "name": "stdout",
     "output_type": "stream",
     "text": [
      "[[-9.86170780e-05 -2.50187994e-04 -1.51416069e-04 ... -3.89866851e-04\n",
      "  -4.50557738e-04 -3.54646443e-04]\n",
      " [-9.86170780e-05 -2.50187994e-04 -1.51416069e-04 ... -3.89866851e-04\n",
      "  -4.50557738e-04 -3.54646443e-04]\n",
      " [-9.86170780e-05 -2.50187994e-04 -1.51416069e-04 ... -3.89866851e-04\n",
      "  -4.50557738e-04 -3.54646443e-04]\n",
      " ...\n",
      " [-9.86170780e-05 -2.50187994e-04 -1.51416069e-04 ... -3.89866851e-04\n",
      "  -4.50557738e-04 -3.54646443e-04]\n",
      " [-9.86170780e-05 -2.50187994e-04 -1.51416069e-04 ... -3.89866851e-04\n",
      "  -4.50557738e-04 -3.54646443e-04]\n",
      " [-9.86170780e-05 -2.50187994e-04 -1.51416069e-04 ... -3.89866851e-04\n",
      "  -4.50557738e-04 -3.54646443e-04]]\n",
      "[[-1.39786323e-04  8.78306018e-05  1.29912369e-04 ...  3.68373614e-04\n",
      "  -3.85514344e-04 -1.44123085e-04]\n",
      " [-1.39786323e-04  8.78306018e-05  1.29912369e-04 ...  3.68373614e-04\n",
      "  -3.85514344e-04 -1.44123085e-04]\n",
      " [-1.39786323e-04  8.78306018e-05  1.29912369e-04 ...  3.68373614e-04\n",
      "  -3.85514344e-04 -1.44123085e-04]\n",
      " ...\n",
      " [-1.39786323e-04  8.78306018e-05  1.29912369e-04 ...  3.68373614e-04\n",
      "  -3.85514344e-04 -1.44123085e-04]\n",
      " [-1.39786323e-04  8.78306018e-05  1.29912369e-04 ...  3.68373614e-04\n",
      "  -3.85514344e-04 -1.44123085e-04]\n",
      " [-1.39786323e-04  8.78306018e-05  1.29912369e-04 ...  3.68373614e-04\n",
      "  -3.85514344e-04 -1.44123085e-04]]\n",
      "[[ 0.00047343  0.00031162  0.00010272 ... -0.00012061 -0.0001135\n",
      "  -0.00022221]\n",
      " [ 0.00047343  0.00031162  0.00010272 ... -0.00012061 -0.0001135\n",
      "  -0.00022221]\n",
      " [ 0.00047343  0.00031162  0.00010272 ... -0.00012061 -0.0001135\n",
      "  -0.00022221]\n",
      " ...\n",
      " [-0.0004524   0.00393687  0.00875859 ... -0.00266573 -0.00431797\n",
      "  -0.003715  ]\n",
      " [ 0.00053176  0.00197948  0.00378589 ... -0.00178359 -0.00313127\n",
      "  -0.00193185]\n",
      " [ 0.00025909  0.00172647  0.00354389 ... -0.00183889 -0.00274934\n",
      "  -0.00175624]]\n",
      "[[ 0.00253049  0.00570749  0.00939154 ... -0.00156839 -0.00718352\n",
      "  -0.00449362]\n",
      " [-0.00060645  0.00484647  0.01076039 ... -0.00292689 -0.0050649\n",
      "  -0.00446828]\n",
      " [ 0.00388432  0.00785057  0.01243793 ... -0.00149766 -0.00986096\n",
      "  -0.00612272]\n",
      " ...\n",
      " [-0.00110565  0.00622714  0.01406994 ... -0.00342081 -0.00584819\n",
      "  -0.00556495]\n",
      " [ 0.00554076  0.00900748  0.01313859 ... -0.00100166 -0.01169148\n",
      "  -0.00676923]\n",
      " [ 0.02622998  0.02721664  0.02964139 ...  0.00546261 -0.03584808\n",
      "  -0.0166923 ]]\n"
     ]
    }
   ],
   "source": []
  },
  {
   "cell_type": "code",
   "execution_count": 80,
   "metadata": {},
   "outputs": [],
   "source": [
    "vols[sub+'_lin_fold0_stderr'] = cortex.Volume(lin_fold0, surfaces[sub], transforms[sub], mask=mask, vmin=0, vmax=1, cmap='viridis')\n",
    "vols[sub+'_lin_fold1_stderr'] = cortex.Volume(lin_fold1, surfaces[sub], transforms[sub], mask=mask, vmin=0, vmax=1, cmap='viridis')\n",
    "vols[sub+'_lin_fold2_stderr'] = cortex.Volume(lin_fold2, surfaces[sub], transforms[sub], mask=mask, vmin=0, vmax=1, cmap='viridis')\n",
    "vols[sub+'_lin_fold3_stderr'] = cortex.Volume(lin_fold3, surfaces[sub], transforms[sub], mask=mask, vmin=0, vmax=1, cmap='viridis')\n",
    "\n",
    "vols[sub+'_mlp_fold0_stderr'] = cortex.Volume(mlp_fold0, surfaces[sub], transforms[sub], mask=mask, vmin=0, vmax=1, cmap='viridis')\n",
    "vols[sub+'_mlp_fold1_stderr'] = cortex.Volume(mlp_fold1, surfaces[sub], transforms[sub], mask=mask, vmin=0, vmax=1, cmap='viridis')\n",
    "vols[sub+'_mlp_fold2_stderr'] = cortex.Volume(mlp_fold2, surfaces[sub], transforms[sub], mask=mask, vmin=0, vmax=1, cmap='viridis')\n",
    "vols[sub+'_mlp_fold3_stderr'] = cortex.Volume(mlp_fold3, surfaces[sub], transforms[sub], mask=mask, vmin=0, vmax=1, cmap='viridis')\n",
    "\n",
    "vols[sub+'_mlp_allvoxels_fold0_stderr'] = cortex.Volume(mlp_allvoxels_fold0, surfaces[sub], transforms[sub], mask=mask, vmin=0, vmax=1, cmap='viridis')\n",
    "vols[sub+'_mlp_allvoxels_fold1_stderr'] = cortex.Volume(mlp_allvoxels_fold1, surfaces[sub], transforms[sub], mask=mask, vmin=0, vmax=1, cmap='viridis')\n",
    "vols[sub+'_mlp_allvoxels_fold2_stderr'] = cortex.Volume(mlp_allvoxels_fold2, surfaces[sub], transforms[sub], mask=mask, vmin=0, vmax=1, cmap='viridis')\n",
    "vols[sub+'_mlp_allvoxels_fold3_stderr'] = cortex.Volume(mlp_allvoxels_fold3, surfaces[sub], transforms[sub], mask=mask, vmin=0, vmax=1, cmap='viridis')\n"
   ]
  },
  {
   "cell_type": "code",
   "execution_count": null,
   "metadata": {},
   "outputs": [],
   "source": [
    "### END PLOTTING STD DEVIATIONS ####"
   ]
  },
  {
   "cell_type": "code",
   "execution_count": 15,
   "metadata": {},
   "outputs": [],
   "source": [
    "# vols[sub+'_lin_neighborhood'] = cortex.Volume(lin_neighborhood_loaded.mean(0), surfaces[sub], transforms[sub], mask=mask, vmin=0.5, vmax=0.75, cmap='viridis')\n",
    "# vols[sub+'_lin_no_neighborhood'] = cortex.Volume(lin_noneighborhood_loaded.mean(0), surfaces[sub], transforms[sub], mask=mask, vmin=0.5, vmax=0.75, cmap='viridis')\n",
    "# vols[sub+'_lin_corrs'] = cortex.Volume(lin_corrs_loaded.mean(0), surfaces[sub], transforms[sub], mask=mask, vmin=0, vmax=0.2, cmap='viridis')\n",
    "\n",
    "# vols[sub+'_mlp_neighborhood'] = cortex.Volume(mlp_neighborhood_loaded.mean(0), surfaces[sub], transforms[sub], mask=mask, vmin=0.5, vmax=0.75, cmap='viridis')\n",
    "# vols[sub+'_mlp_no_neighborhood'] = cortex.Volume(mlp_noneighborhood_loaded.mean(0), surfaces[sub], transforms[sub], mask=mask, vmin=0.5, vmax=0.75, cmap='viridis')\n",
    "# vols[sub+'_mlp_corrs'] = cortex.Volume(np.nan_to_num(mlp_corrs_loaded.mean(0)), surfaces[sub], transforms[sub], mask=mask, vmin=0, vmax=0.2, cmap='viridis')\n",
    "\n",
    "# vols[sub+'_mlpallvox_neighborhood'] = cortex.Volume(mlp_allvoxels_neighborhood_loaded.mean(0), surfaces[sub], transforms[sub], mask=mask, vmin=0.45, vmax=0.55, cmap='viridis')\n",
    "# vols[sub+'_mlpallvox_no_neighborhood'] = cortex.Volume(mlp_allvoxels_noneighborhood_loaded.mean(0), surfaces[sub], transforms[sub], mask=mask, vmin=0.85, vmax=0.95, cmap='viridis')\n",
    "# vols[sub+'_mlpallvox_corrs'] = cortex.Volume(mlp_allvoxels_corrs_loaded.mean(0), surfaces[sub], transforms[sub], mask=mask, vmin=-0.1, vmax=0.1, cmap='viridis')"
   ]
  },
  {
   "cell_type": "code",
   "execution_count": 81,
   "metadata": {},
   "outputs": [
    {
     "name": "stdout",
     "output_type": "stream",
     "text": [
      "Started server on port 38346\n"
     ]
    },
    {
     "data": {
      "text/plain": [
       "<JS: window.viewer>"
      ]
     },
     "execution_count": 81,
     "metadata": {},
     "output_type": "execute_result"
    }
   ],
   "source": [
    "cortex.webshow(vols)"
   ]
  },
  {
   "cell_type": "code",
   "execution_count": null,
   "metadata": {},
   "outputs": [],
   "source": []
  }
 ],
 "metadata": {
  "kernelspec": {
   "display_name": "env",
   "language": "python",
   "name": "env"
  },
  "language_info": {
   "codemirror_mode": {
    "name": "ipython",
    "version": 3
   },
   "file_extension": ".py",
   "mimetype": "text/x-python",
   "name": "python",
   "nbconvert_exporter": "python",
   "pygments_lexer": "ipython3",
   "version": "3.7.3"
  }
 },
 "nbformat": 4,
 "nbformat_minor": 4
}
