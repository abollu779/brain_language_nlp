{
 "cells": [
  {
   "cell_type": "code",
   "execution_count": 1,
   "metadata": {},
   "outputs": [
    {
     "name": "stdout",
     "output_type": "stream",
     "text": [
      "Device:  cpu\n"
     ]
    }
   ],
   "source": [
    "import cortex\n",
    "import numpy as np\n",
    "\n",
    "from utils.utils import CV_ind\n",
    "from utils.global_params import n_folds"
   ]
  },
  {
   "cell_type": "code",
   "execution_count": 2,
   "metadata": {},
   "outputs": [],
   "source": [
    "surfaces = dict( F = 'fMRI_story_F',\n",
    "\tG = 'fMRI_story_G',\n",
    "\tH = 'fMRI_story_H',\n",
    "\tI = 'fMRI_story_I',\n",
    "\tJ = 'fMRI_story_J',\n",
    "\tK = 'fMRI_story_K',\n",
    "\tL = 'fMRI_story_L',\n",
    "\tM = 'fMRI_story_M',\n",
    "\tN = 'fMRI_story_N')\n",
    "\n",
    "transforms = dict( F = 'F_ars_auto2',\n",
    "\tG = 'G_ars_auto2',\n",
    "\tH = 'H_ars_auto2',\n",
    "\tI = 'I_ars_auto2',\n",
    "\tJ = 'J_ars_auto2',\n",
    "\tK = 'K_ars_auto2',\n",
    "\tL = 'L_ars_auto2',\n",
    "\tM = 'M_ars_auto2',\n",
    "\tN = 'N_ars_auto2')\n",
    "\n",
    "vols = {}"
   ]
  },
  {
   "cell_type": "code",
   "execution_count": 3,
   "metadata": {},
   "outputs": [],
   "source": [
    "def roi_to_allvoxels(rois, roi_array):\n",
    "    num_folds = roi_array.shape[0]\n",
    "    num_voxels = rois.item()['F']['all'].shape[0]\n",
    "    allvoxel_array = np.zeros((num_folds, num_voxels))\n",
    "    allvoxel_array[:] = np.nan\n",
    "    roi_ids = np.where(rois.item()['F']['all'] == 1)\n",
    "    for i in range(num_folds):\n",
    "        allvoxel_array[i, roi_ids] = roi_array[i]\n",
    "    return allvoxel_array"
   ]
  },
  {
   "cell_type": "code",
   "execution_count": 4,
   "metadata": {},
   "outputs": [],
   "source": [
    "sub = 'F'\n",
    "model = 'mlp_allvoxels'\n",
    "mask = cortex.db.get_mask(surfaces[sub], transforms[sub], 'thin')\n",
    "rois = np.load('../HP_subj_roi_inds.npy', allow_pickle=True)"
   ]
  },
  {
   "cell_type": "markdown",
   "metadata": {},
   "source": [
    "## Load Relevant Correlation and/or Accuracy Data"
   ]
  },
  {
   "cell_type": "code",
   "execution_count": 5,
   "metadata": {},
   "outputs": [],
   "source": [
    "neighborhood_path = ''\n",
    "noneighborhood_path = ''\n",
    "encoder_output_path = ''\n",
    "\n",
    "# neighborhood_loaded = np.load(neighborhood_path, allow_pickle=True)\n",
    "# noneighborhood_loaded = np.load(noneighborhood_path, allow_pickle=True)\n",
    "# output_loaded = np.load(encoder_output_path, allow_pickle=True).item()\n",
    "# preds_loaded = output_loaded['preds_t']\n",
    "# corrs_loaded = output_loaded['corrs_t']"
   ]
  },
  {
   "cell_type": "markdown",
   "metadata": {},
   "source": [
    "If using only ROI correlations/accuracies, extend array size with nans for all other voxels:"
   ]
  },
  {
   "cell_type": "code",
   "execution_count": 89,
   "metadata": {},
   "outputs": [],
   "source": [
    "# noneighborhood_loaded = roi_to_allvoxels(rois, noneighborhood_loaded)\n",
    "# corrs_loaded = roi_to_allvoxels(rois, corrs_loaded)"
   ]
  },
  {
   "cell_type": "code",
   "execution_count": 82,
   "metadata": {},
   "outputs": [],
   "source": [
    "# vols[sub + '_' + model + '_neighborhood'] = cortex.Volume(neighborhood_loaded.mean(0), surfaces[sub], transforms[sub], mask=mask, vmin=0.5, vmax=0.75, cmap='viridis')\n",
    "# vols[sub + '_' + model + '_no_neighborhood'] = cortex.Volume(noneighborhood_loaded.mean(0), surfaces[sub], transforms[sub], mask=mask, vmin=0.5, vmax=0.75, cmap='viridis')\n",
    "# vols[sub + '_' + model + '_corrs'] = cortex.Volume(corrs_loaded.mean(0), surfaces[sub], transforms[sub], mask=mask, vmin=0, vmax=0.2, cmap='viridis')\n"
   ]
  },
  {
   "cell_type": "code",
   "execution_count": 9,
   "metadata": {},
   "outputs": [
    {
     "name": "stdout",
     "output_type": "stream",
     "text": [
      "Started server on port 47578\n"
     ]
    },
    {
     "data": {
      "text/plain": [
       "<JS: window.viewer>"
      ]
     },
     "execution_count": 9,
     "metadata": {},
     "output_type": "execute_result"
    }
   ],
   "source": [
    "cortex.webshow(vols)"
   ]
  },
  {
   "cell_type": "code",
   "execution_count": 90,
   "metadata": {},
   "outputs": [],
   "source": [
    "### PLOTTING STD DEVIATIONS ####"
   ]
  },
  {
   "cell_type": "code",
   "execution_count": 6,
   "metadata": {},
   "outputs": [
    {
     "name": "stdout",
     "output_type": "stream",
     "text": [
      "[0. 0. 0. ... 0. 0. 0.]\n",
      "[0. 0. 0. ... 0. 0. 0.]\n",
      "[0. 0. 0. ... 0. 0. 0.]\n",
      "[0.0036257  0.00298019 0.00833588 ... 0.00410301 0.00517578 0.00594044]\n"
     ]
    }
   ],
   "source": [
    "def fold_voxels_stderr(ind_num, n_folds, preds):\n",
    "    n = preds.shape[0]\n",
    "    ind = CV_ind(n, n_folds)\n",
    "    preds_ind = ind==ind_num\n",
    "    fold_preds = preds[preds_ind]\n",
    "    print(np.std(fold_preds, 0))\n",
    "    where_stderr_zero = (np.std(fold_preds, 0) != 0)\n",
    "    return where_stderr_zero\n",
    "\n",
    "# lin_folds = []\n",
    "# for f in range(n_folds):\n",
    "#     lin_folds.append(fold_voxels_stderr(f, n_folds, lin_preds_loaded))\n",
    "\n",
    "# mlp_folds = []\n",
    "# for f in range(n_folds):\n",
    "#     mlp_folds.append(fold_voxels_stderr(f, n_folds, mlp_preds_loaded))\n",
    "    \n",
    "mlp_allvoxels_folds = []\n",
    "for f in range(n_folds):\n",
    "    mlp_allvoxels_folds.append(fold_voxels_stderr(f, n_folds, mlp_allvoxels_preds_loaded))"
   ]
  },
  {
   "cell_type": "code",
   "execution_count": 7,
   "metadata": {},
   "outputs": [],
   "source": [
    "# for f in range(n_folds):\n",
    "#     key_sfx = '_lin_fold{}_stderr'.format(f)\n",
    "#     key = sub+key_sfx\n",
    "#     vols[key] = cortex.Volume(lin_folds[f], surfaces[sub], transforms[sub], mask=mask, vmin=0, vmax=1, cmap='viridis')\n",
    "    \n",
    "# for f in range(n_folds):\n",
    "#     key_sfx = '_mlp_fold{}_stderr'.format(f)\n",
    "#     key = sub+key_sfx\n",
    "#     vols[key] = cortex.Volume(mlp_folds[f], surfaces[sub], transforms[sub], mask=mask, vmin=0, vmax=1, cmap='viridis')\n",
    "\n",
    "for f in range(n_folds):\n",
    "    key_sfx = '_mlp_allvoxels_fold{}_stderr'.format(f)\n",
    "    key = sub+key_sfx\n",
    "    vols[key] = cortex.Volume(mlp_allvoxels_folds[f], surfaces[sub], transforms[sub], mask=mask, vmin=0, vmax=1, cmap='viridis')"
   ]
  },
  {
   "cell_type": "code",
   "execution_count": null,
   "metadata": {},
   "outputs": [],
   "source": [
    "### END PLOTTING STD DEVIATIONS ####"
   ]
  },
  {
   "cell_type": "code",
   "execution_count": null,
   "metadata": {},
   "outputs": [],
   "source": []
  }
 ],
 "metadata": {
  "kernelspec": {
   "display_name": "env",
   "language": "python",
   "name": "env"
  },
  "language_info": {
   "codemirror_mode": {
    "name": "ipython",
    "version": 3
   },
   "file_extension": ".py",
   "mimetype": "text/x-python",
   "name": "python",
   "nbconvert_exporter": "python",
   "pygments_lexer": "ipython3",
   "version": "3.7.3"
  }
 },
 "nbformat": 4,
 "nbformat_minor": 4
}
