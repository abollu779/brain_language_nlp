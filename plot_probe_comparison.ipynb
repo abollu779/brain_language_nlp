{
 "cells": [
  {
   "cell_type": "code",
   "execution_count": 1,
   "metadata": {},
   "outputs": [],
   "source": [
    "import argparse\n",
    "import numpy as np\n",
    "import matplotlib.pyplot as plt\n",
    "import matplotlib.lines as mlines\n",
    "import matplotlib.transforms as mtransforms\n",
    "import pickle as pk"
   ]
  },
  {
   "cell_type": "markdown",
   "metadata": {},
   "source": [
    "### Arguments"
   ]
  },
  {
   "cell_type": "code",
   "execution_count": 2,
   "metadata": {},
   "outputs": [],
   "source": [
    "subject = 'F'\n",
    "layer = 1\n",
    "context_length = 1\n",
    "noreg = False\n",
    "voxels_options = ['ALL', 'ALLROI', 'POSTTEMP', 'ANTTEMP', 'ANGULARG', 'IFG', 'MFG', 'IFGORB', 'PCINGULATE', 'DMPFC']\n",
    "voxels_type = 'ALLROI'"
   ]
  },
  {
   "cell_type": "code",
   "execution_count": 3,
   "metadata": {},
   "outputs": [],
   "source": [
    "def get_X_Y(metrics1, metrics2, subject, voxels_type):\n",
    "    X = np.nanmean(metrics1, axis=0)\n",
    "    Y = np.nanmean(metrics2, axis=0)\n",
    "\n",
    "    X[np.where(np.isnan(X) == 1)] = 0\n",
    "    Y[np.where(np.isnan(Y) == 1)] = 0\n",
    "\n",
    "    rois = np.load('../HP_subj_roi_inds.npy', allow_pickle=True)\n",
    "\n",
    "    if voxels_type != 'ALL':\n",
    "        X = X[np.where(rois.item()[subject]['all'] == 1)[0]]\n",
    "        Y = Y[np.where(rois.item()[subject]['all'] == 1)[0]]\n",
    "        if voxels_type != 'ALLROI':\n",
    "            if voxels_type == 'POSTTEMP':\n",
    "                mask = rois.item()[subject]['PostTemp'][np.where(rois.item()[subject]['all'] > 0)[0]]\n",
    "            elif voxels_type == 'ANTTEMP':\n",
    "                mask = rois.item()[subject]['AntTemp'][np.where(rois.item()[subject]['all'] > 0)[0]]\n",
    "            elif voxels_type == 'ANGULARG':\n",
    "                mask = rois.item()[subject]['AngularG'][np.where(rois.item()[subject]['all'] > 0)[0]]\n",
    "            elif voxels_type == 'IFG':\n",
    "                mask = rois.item()[subject]['IFG'][np.where(rois.item()[subject]['all'] > 0)[0]]\n",
    "            elif voxels_type == 'MFG':\n",
    "                mask = rois.item()[subject]['MFG'][np.where(rois.item()[subject]['all'] > 0)[0]]\n",
    "            elif voxels_type == 'IFGORB':\n",
    "                mask = rois.item()[subject]['IFGorb'][np.where(rois.item()[subject]['all'] > 0)[0]]\n",
    "            elif voxels_type == 'PCINGULATE':\n",
    "                mask = rois.item()[subject]['pCingulate'][np.where(rois.item()[subject]['all'] > 0)[0]]\n",
    "            elif voxels_type == 'DMPFC':\n",
    "                mask = rois.item()[subject]['dmpfc'][np.where(rois.item()[subject]['all'] > 0)[0]]\n",
    "            X = np.ma.masked_equal(mask * X, 0).compressed()\n",
    "            Y = np.ma.masked_equal(mask * Y, 0).compressed()\n",
    "    return X, Y"
   ]
  },
  {
   "cell_type": "markdown",
   "metadata": {},
   "source": [
    "# Correlation Plots"
   ]
  },
  {
   "cell_type": "code",
   "execution_count": null,
   "metadata": {},
   "outputs": [],
   "source": [
    "model1 = 'linear'\n",
    "model2 = 'linear_sgd'\n",
    "if noreg:\n",
    "    model1 += '_noreg'\n",
    "    model2 += '_noreg'\n",
    "else:\n",
    "    model1 += '_reg'\n",
    "    model2 += '_reg'"
   ]
  },
  {
   "cell_type": "code",
   "execution_count": null,
   "metadata": {},
   "outputs": [],
   "source": [
    "output_path = 'encoder_preds/maxvoxels/predict_{}_with_bert_layer_{}_len_{}_encoder_{}.npy'\n",
    "output1 = np.load(output_path.format(subject, layer, context_length, model1), allow_pickle=True)\n",
    "output2 = np.load(output_path.format(subject, layer, context_length, model2), allow_pickle=True)\n",
    "corrs1 = output1.item()['corrs_t']\n",
    "corrs2 = output2.item()['corrs_t']"
   ]
  },
  {
   "cell_type": "code",
   "execution_count": null,
   "metadata": {},
   "outputs": [],
   "source": [
    "# Best Fit Line\n",
    "# def plot_accuracies(X, Y, subject, voxels_type, x_label, y_label):\n",
    "#     plt.scatter(X, Y)\n",
    "#     f = np.poly1d(np.polyfit(X, Y, 1))\n",
    "#     print(\"BFL Coefficients: {}\".format(f.c))\n",
    "#     plt.plot(X, f(X), color='black')\n",
    "#     plt.plot(np.array([0., 1.]), np.array([0., 1.]), color='red')\n",
    "#     plt.title('Corrs BFL: Sub={}, Layer={}, Context={}, Voxels={} \\n {} v {}'.format(subject, layer, context_length, voxels_type, x_label, y_label))\n",
    "#     plt.xlabel(xlab)\n",
    "#     plt.ylabel(ylab)\n",
    "#     plt.xlim(-0.25, 0.5)\n",
    "#     plt.ylim(-0.25, 0.5)\n",
    "#     plt.gca().set_aspect('equal', adjustable='box')\n",
    "#     plt.show()"
   ]
  },
  {
   "cell_type": "code",
   "execution_count": null,
   "metadata": {},
   "outputs": [],
   "source": [
    "# PCA\n",
    "from sklearn.decomposition import PCA\n",
    "def plot_correlations(X, Y, subject, voxels_type, x_label, y_label):\n",
    "    plt.scatter(X, Y)\n",
    "    \n",
    "    pca = PCA(n_components=1, svd_solver='full')\n",
    "    pca_first = pca.fit(np.transpose(np.vstack([X,Y])))\n",
    "    x_mean, y_mean = np.mean(X), np.mean(Y)\n",
    "    plt.plot((-1,1),(-1,1),'r')\n",
    "    print(\"PCA comps: {}\".format(pca_first.components_[0]))\n",
    "    plt.plot((x_mean-pca_first.components_[0][0],x_mean,x_mean+pca_first.components_[0][0]),(y_mean-pca_first.components_[0][1], y_mean, y_mean+pca_first.components_[0][1]), 'k')\n",
    "    \n",
    "    plt.title('Corrs PCA: Sub={}, Layer={}, Context={}, Voxels={} \\n {} v {}'.format(subject, layer, context_length, voxels_type, x_label, y_label))\n",
    "    plt.xlabel(x_label)\n",
    "    plt.ylabel(y_label)\n",
    "    plt.xlim(-0.25, 0.5)\n",
    "    plt.ylim(-0.25, 0.5)\n",
    "    plt.gca().set_aspect('equal', adjustable='box')\n",
    "    plt.show()   "
   ]
  },
  {
   "cell_type": "code",
   "execution_count": null,
   "metadata": {},
   "outputs": [],
   "source": [
    "X, Y = get_X_Y(corrs1, corrs2, subject, voxels_type)"
   ]
  },
  {
   "cell_type": "code",
   "execution_count": null,
   "metadata": {},
   "outputs": [],
   "source": [
    "plot_correlations(X, Y, subject, voxels_type, model1, model2)"
   ]
  },
  {
   "cell_type": "markdown",
   "metadata": {},
   "source": [
    "# Accuracy Plots"
   ]
  },
  {
   "cell_type": "code",
   "execution_count": 4,
   "metadata": {},
   "outputs": [],
   "source": [
    "model1 = 'linear'\n",
    "model2 = 'linear_sklearn'\n",
    "if noreg:\n",
    "    model1 += '_noreg'\n",
    "    model2 += '_noreg'\n",
    "else:\n",
    "    model1 += '_reg'\n",
    "    model2 += '_reg'\n",
    "acc_type = 'noneighborhood' # or 'neighborhood'"
   ]
  },
  {
   "cell_type": "code",
   "execution_count": 7,
   "metadata": {},
   "outputs": [],
   "source": [
    "accs_path = 'final_accs/maxvoxels/{}/{}_with_bert_layer_{}_len_{}_encoder_{}_accs.pkl'\n",
    "accs1 = pk.load(open(accs_path.format(acc_type, subject, layer, context_length, model1), 'rb'))\n",
    "accs2 = pk.load(open(accs_path.format(acc_type, subject, layer, context_length, model2), 'rb'))"
   ]
  },
  {
   "cell_type": "code",
   "execution_count": null,
   "metadata": {},
   "outputs": [],
   "source": [
    "# Best Fit Line\n",
    "# def plot_accuracies(X, Y, subject, voxels_type, x_label, y_label):\n",
    "#     plt.scatter(X, Y)\n",
    "#     f = np.poly1d(np.polyfit(X, Y, 1))\n",
    "#     print(\"BFL Coefficients: {}\".format(f.c))\n",
    "#     plt.plot(X, f(X), color='black')\n",
    "#     plt.plot(np.array([0., 1.]), np.array([0., 1.]), color='red')\n",
    "#     plt.title('Accs BFL: Sub={}, Layer={}, Context={}, Voxels={} \\n {} v {}'.format(subject, layer, context_length, voxels_type, x_label, y_label))\n",
    "#     plt.xlabel(x_label)\n",
    "#     plt.ylabel(y_label)\n",
    "#     plt.xlim(0, 1)\n",
    "#     plt.ylim(0, 1)\n",
    "#     plt.gca().set_aspect('equal', adjustable='box')\n",
    "#     plt.show()"
   ]
  },
  {
   "cell_type": "code",
   "execution_count": 8,
   "metadata": {},
   "outputs": [],
   "source": [
    "# PCA\n",
    "from sklearn.decomposition import PCA\n",
    "def plot_accuracies(X, Y, subject, voxels_type, x_label, y_label):\n",
    "    plt.scatter(X, Y)\n",
    "    \n",
    "    pca = PCA(n_components=1, svd_solver='full')\n",
    "    pca_first = pca.fit(np.transpose(np.vstack([X,Y])))\n",
    "    x_mean, y_mean = np.mean(X), np.mean(Y)\n",
    "    plt.plot((0,1),(0,1),'r')\n",
    "    print(\"PCA comps: {}\".format(pca_first.components_[0]))\n",
    "    plt.plot((x_mean-pca_first.components_[0][0],x_mean,x_mean+pca_first.components_[0][0]),(y_mean-pca_first.components_[0][1], y_mean, y_mean+pca_first.components_[0][1]), 'k')\n",
    "    \n",
    "    plt.title('Accs PCA: Sub={}, Layer={}, Context={}, Voxels={} \\n {} v {}'.format(subject, layer, context_length, voxels_type, x_label, y_label))\n",
    "    plt.xlabel(x_label)\n",
    "    plt.ylabel(y_label)\n",
    "    plt.xlim(0, 1)\n",
    "    plt.ylim(0, 1)\n",
    "    plt.gca().set_aspect('equal', adjustable='box')\n",
    "    plt.show()    \n",
    "    "
   ]
  },
  {
   "cell_type": "code",
   "execution_count": 9,
   "metadata": {},
   "outputs": [],
   "source": [
    "X, Y = get_X_Y(accs1, accs2, subject, voxels_type)"
   ]
  },
  {
   "cell_type": "code",
   "execution_count": 10,
   "metadata": {
    "scrolled": false
   },
   "outputs": [
    {
     "name": "stdout",
     "output_type": "stream",
     "text": [
      "PCA comps: [-0.70712434 -0.70708923]\n"
     ]
    },
    {
     "data": {
      "image/png": "[encoded data removed]",
      "text/plain": [
       "<Figure size 432x288 with 1 Axes>"
      ]
     },
     "metadata": {
      "needs_background": "light"
     },
     "output_type": "display_data"
    }
   ],
   "source": [
    "plot_accuracies(X, Y, subject, voxels_type, model1, model2)"
   ]
  },
  {
   "cell_type": "markdown",
   "metadata": {},
   "source": [
    "## Synthetic Data Experiments"
   ]
  },
  {
   "cell_type": "markdown",
   "metadata": {},
   "source": [
    "Start with 20 datapoints using BFL formula"
   ]
  },
  {
   "cell_type": "markdown",
   "metadata": {},
   "source": [
    "##### No Noise"
   ]
  },
  {
   "cell_type": "code",
   "execution_count": null,
   "metadata": {},
   "outputs": [],
   "source": [
    "X1 = np.random.rand(20)\n",
    "# X1 = np.random.uniform(0.4, 0.8, 20)\n",
    "Y1 = 0.8*X1 + 0.1\n",
    "X, Y = X1, Y1"
   ]
  },
  {
   "cell_type": "code",
   "execution_count": null,
   "metadata": {},
   "outputs": [],
   "source": [
    "plot_accuracies(X, Y, 'Synthetic', '20', '0', 'None')"
   ]
  },
  {
   "cell_type": "code",
   "execution_count": null,
   "metadata": {},
   "outputs": [],
   "source": [
    "plot_accuracies(Y, X, 'Synthetic-Swapped', '20', '0', 'None')"
   ]
  },
  {
   "cell_type": "markdown",
   "metadata": {},
   "source": [
    "##### With Noise"
   ]
  },
  {
   "cell_type": "markdown",
   "metadata": {},
   "source": [
    "Added 50 noisy points with noise ~ N(0, 0.1)"
   ]
  },
  {
   "cell_type": "code",
   "execution_count": null,
   "metadata": {},
   "outputs": [],
   "source": [
    "X2 = np.random.rand(50)\n",
    "# X2 = np.random.uniform(0.4, 0.8, 50)\n",
    "Y2_original = (0.8*X2 + 0.1)\n",
    "noise = np.random.normal(0, 0.1, X2.shape)\n",
    "Y2 = Y2_original + noise\n",
    "np.putmask(Y2, Y2 >= 1.0, 1.0)\n",
    "X, Y = np.concatenate((X1, X2)), np.concatenate((Y1, Y2))"
   ]
  },
  {
   "cell_type": "code",
   "execution_count": null,
   "metadata": {
    "scrolled": false
   },
   "outputs": [],
   "source": [
    "plot_accuracies(X, Y, 'Synthetic', '20', '50', 'N(0, 0.1)')"
   ]
  },
  {
   "cell_type": "code",
   "execution_count": null,
   "metadata": {
    "scrolled": true
   },
   "outputs": [],
   "source": [
    "plot_accuracies(Y, X, 'Synthetic-Swapped', '20', '50', 'N(0, 0.1)')"
   ]
  },
  {
   "cell_type": "markdown",
   "metadata": {},
   "source": [
    "Added 50 noisy points with noise ~ N(0, 0.2)"
   ]
  },
  {
   "cell_type": "code",
   "execution_count": null,
   "metadata": {},
   "outputs": [],
   "source": [
    "X2 = np.random.rand(50)\n",
    "# X2 = np.random.uniform(0.4, 0.8, 50)\n",
    "Y2_original = (0.8*X2 + 0.1)\n",
    "noise = np.random.normal(0, 0.2, X2.shape)\n",
    "Y2 = Y2_original + noise\n",
    "np.putmask(Y2, Y2 >= 1.0, 1.0)\n",
    "X, Y = np.concatenate((X1, X2)), np.concatenate((Y1, Y2))"
   ]
  },
  {
   "cell_type": "code",
   "execution_count": null,
   "metadata": {
    "scrolled": false
   },
   "outputs": [],
   "source": [
    "plot_accuracies(X, Y, 'Synthetic', '20', '50', 'N(0, 0.2)')"
   ]
  },
  {
   "cell_type": "code",
   "execution_count": null,
   "metadata": {
    "scrolled": true
   },
   "outputs": [],
   "source": [
    "plot_accuracies(Y, X, 'Synthetic-Swapped', '20', '50', 'N(0, 0.2)')"
   ]
  },
  {
   "cell_type": "code",
   "execution_count": null,
   "metadata": {},
   "outputs": [],
   "source": []
  }
 ],
 "metadata": {
  "kernelspec": {
   "display_name": "env",
   "language": "python",
   "name": "env"
  },
  "language_info": {
   "codemirror_mode": {
    "name": "ipython",
    "version": 3
   },
   "file_extension": ".py",
   "mimetype": "text/x-python",
   "name": "python",
   "nbconvert_exporter": "python",
   "pygments_lexer": "ipython3",
   "version": "3.7.3"
  }
 },
 "nbformat": 4,
 "nbformat_minor": 4
}
