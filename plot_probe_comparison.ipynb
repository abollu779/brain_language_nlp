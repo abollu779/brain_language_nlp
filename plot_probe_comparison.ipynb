{
 "cells": [
  {
   "cell_type": "code",
   "execution_count": 1,
   "metadata": {},
   "outputs": [],
   "source": [
    "import argparse\n",
    "import numpy as np\n",
    "import matplotlib.pyplot as plt\n",
    "import matplotlib.lines as mlines\n",
    "import matplotlib.transforms as mtransforms\n",
    "import pickle as pk"
   ]
  },
  {
   "cell_type": "markdown",
   "metadata": {},
   "source": [
    "### Arguments"
   ]
  },
  {
   "cell_type": "code",
   "execution_count": 49,
   "metadata": {},
   "outputs": [],
   "source": [
    "subject = 'F'\n",
    "layer = 1\n",
    "context_length = 1\n",
    "# voxels_options = ['ALL', 'ALLROI', 'POSTTEMP', 'ANTTEMP', 'ANGULARG', 'IFG', 'MFG', 'IFGORB', 'PCINGULATE', 'DMPFC']\n",
    "voxels_type = 'ALLROI'"
   ]
  },
  {
   "cell_type": "code",
   "execution_count": 3,
   "metadata": {},
   "outputs": [],
   "source": [
    "def get_X_Y(metrics1, metrics2, subject, voxels_type):\n",
    "    X = np.nanmean(metrics1, axis=0)\n",
    "    Y = np.nanmean(metrics2, axis=0)\n",
    "\n",
    "    X[np.where(np.isnan(X) == 1)] = 0\n",
    "    Y[np.where(np.isnan(Y) == 1)] = 0\n",
    "\n",
    "    rois = np.load('../HP_subj_roi_inds.npy', allow_pickle=True)\n",
    "\n",
    "    if voxels_type != 'ALL':\n",
    "        X = X[np.where(rois.item()[subject]['all'] == 1)[0]]\n",
    "        Y = Y[np.where(rois.item()[subject]['all'] == 1)[0]]\n",
    "        if voxels_type != 'ALLROI':\n",
    "            if voxels_type == 'POSTTEMP':\n",
    "                mask = rois.item()[subject]['PostTemp'][np.where(rois.item()[subject]['all'] > 0)[0]]\n",
    "            elif voxels_type == 'ANTTEMP':\n",
    "                mask = rois.item()[subject]['AntTemp'][np.where(rois.item()[subject]['all'] > 0)[0]]\n",
    "            elif voxels_type == 'ANGULARG':\n",
    "                mask = rois.item()[subject]['AngularG'][np.where(rois.item()[subject]['all'] > 0)[0]]\n",
    "            elif voxels_type == 'IFG':\n",
    "                mask = rois.item()[subject]['IFG'][np.where(rois.item()[subject]['all'] > 0)[0]]\n",
    "            elif voxels_type == 'MFG':\n",
    "                mask = rois.item()[subject]['MFG'][np.where(rois.item()[subject]['all'] > 0)[0]]\n",
    "            elif voxels_type == 'IFGORB':\n",
    "                mask = rois.item()[subject]['IFGorb'][np.where(rois.item()[subject]['all'] > 0)[0]]\n",
    "            elif voxels_type == 'PCINGULATE':\n",
    "                mask = rois.item()[subject]['pCingulate'][np.where(rois.item()[subject]['all'] > 0)[0]]\n",
    "            elif voxels_type == 'DMPFC':\n",
    "                mask = rois.item()[subject]['dmpfc'][np.where(rois.item()[subject]['all'] > 0)[0]]\n",
    "            X = np.ma.masked_equal(mask * X, 0).compressed()\n",
    "            Y = np.ma.masked_equal(mask * Y, 0).compressed()\n",
    "    return X, Y"
   ]
  },
  {
   "cell_type": "markdown",
   "metadata": {},
   "source": [
    "# Correlation Plots"
   ]
  },
  {
   "cell_type": "code",
   "execution_count": null,
   "metadata": {},
   "outputs": [],
   "source": [
    "model1 = 'linear'\n",
    "model2 = 'mlp_allvoxels_noweightdecay-sharedhidden'"
   ]
  },
  {
   "cell_type": "code",
   "execution_count": null,
   "metadata": {},
   "outputs": [],
   "source": [
    "output_path = 'encoder_preds/maxvoxels/predict_{}_with_bert_layer_{}_len_{}_encoder_{}.npy'\n",
    "output1 = np.load(output_path.format(subject, layer, context_length, model1), allow_pickle=True)\n",
    "output2 = np.load(output_path.format(subject, layer, context_length, model2), allow_pickle=True)\n",
    "corrs1 = output1.item()['corrs_t']\n",
    "corrs2 = output2.item()['corrs_t']"
   ]
  },
  {
   "cell_type": "code",
   "execution_count": null,
   "metadata": {},
   "outputs": [],
   "source": [
    "def plot_correlations(X, Y, subject, voxels_type, x_label, y_label):\n",
    "    delete_indices = np.where((np.isnan(X) == 1) | (np.isnan(Y) == 1))\n",
    "    X = np.delete(X, delete_indices, 0)\n",
    "    Y = np.delete(Y, delete_indices, 0)\n",
    "\n",
    "    # Best fit line data\n",
    "    X_above_zero = X[(X > 0) | (Y > 0)]\n",
    "    Y_above_zero = Y[(X > 0) | (Y > 0)]\n",
    "    xmin = X_above_zero.min()\n",
    "    xmax = X_above_zero.max()\n",
    "    slope, y_intercept = np.polyfit(X_above_zero, Y_above_zero, deg=1)\n",
    "    x_0, y_0, x_1, y_1 = xmin, slope*xmin+y_intercept, xmax, slope*xmax+y_intercept\n",
    "\n",
    "    fig, ax = plt.subplots()\n",
    "    \n",
    "    ax.scatter(X, Y)\n",
    "    bf_line = mlines.Line2D([x_0, x_1], [y_0, y_1], color='black')\n",
    "    line = mlines.Line2D([0, 1], [0, 1], color='red')\n",
    "    transform = ax.transAxes\n",
    "    line.set_transform(transform)\n",
    "    ax.add_line(bf_line)\n",
    "    ax.add_line(line)\n",
    "\n",
    "    plt.title('{} vs {} Correlations: Subject {} - {} Voxels'.format(x_label, y_label, subject, voxels_type))\n",
    "    plt.xlabel('{} corrs'.format(x_label))\n",
    "    plt.ylabel('{} corrs'.format(y_label))\n",
    "    plt.xlim(-0.25, 0.5)\n",
    "    plt.ylim(-0.25, 0.5)\n",
    "    plt.show()"
   ]
  },
  {
   "cell_type": "code",
   "execution_count": null,
   "metadata": {},
   "outputs": [],
   "source": [
    "X, Y = get_X_Y(corrs1, corrs2, subject, voxels_type)"
   ]
  },
  {
   "cell_type": "code",
   "execution_count": null,
   "metadata": {},
   "outputs": [],
   "source": [
    "output2.item()['train_losses_t'].shape"
   ]
  },
  {
   "cell_type": "code",
   "execution_count": null,
   "metadata": {},
   "outputs": [],
   "source": [
    "plot_correlations(X, Y, subject, voxels_type, model1, model2)"
   ]
  },
  {
   "cell_type": "markdown",
   "metadata": {},
   "source": [
    "# Accuracy Plots"
   ]
  },
  {
   "cell_type": "code",
   "execution_count": 20,
   "metadata": {},
   "outputs": [],
   "source": [
    "model1 = 'linear'\n",
    "model2 = 'mlp_allvoxels_noweightdecay-sharedhidden'\n",
    "acc_type = 'noneighborhood' # or 'neighborhood'"
   ]
  },
  {
   "cell_type": "code",
   "execution_count": 21,
   "metadata": {},
   "outputs": [],
   "source": [
    "accs_path = 'final_accs/maxvoxels/{}/{}_with_bert_layer_{}_len_{}_encoder_{}_accs.pkl'\n",
    "accs1 = pk.load(open(accs_path.format(acc_type, subject, layer, context_length, model1), 'rb'))\n",
    "accs2 = pk.load(open(accs_path.format(acc_type, subject, layer, context_length, model2), 'rb'))"
   ]
  },
  {
   "cell_type": "code",
   "execution_count": 46,
   "metadata": {},
   "outputs": [],
   "source": [
    "def plot_accuracies(X, Y, subject, voxels_type, x_label, y_label):\n",
    "    delete_indices = np.where((np.isnan(X) == 1) | (np.isnan(Y) == 1))\n",
    "    X = np.delete(X, delete_indices, 0)\n",
    "    Y = np.delete(Y, delete_indices, 0)\n",
    "\n",
    "    # Best fit line data\n",
    "    X_above_half = X[(X > 0.5) | (Y > 0.5)]\n",
    "    Y_above_half = Y[(X > 0.5) | (Y > 0.5)]\n",
    "    xmin = X_above_half.min()\n",
    "    xmax = X_above_half.max()\n",
    "    slope, y_intercept = np.polyfit(X_above_half, Y_above_half, deg=1)\n",
    "    x_0, y_0, x_1, y_1 = xmin, slope*xmin+y_intercept, xmax, slope*xmax+y_intercept\n",
    "\n",
    "    fig, ax = plt.subplots()\n",
    "    ax.scatter(X, Y)\n",
    "\n",
    "    bf_line = mlines.Line2D([x_0, x_1], [y_0, y_1], color='black')\n",
    "    line = mlines.Line2D([0, 1], [0, 1], color='red')\n",
    "    transform = ax.transAxes\n",
    "    # bf_line.set_transform(transform)\n",
    "    line.set_transform(transform)\n",
    "\n",
    "    ax.add_line(bf_line)\n",
    "    ax.add_line(line)\n",
    "\n",
    "    plt.title('{} vs {} Accuracies (No Neighborhood): Subject {} - {} Voxels'.format(x_label, y_label, subject, voxels_type))\n",
    "    plt.xlabel('{} accs'.format(x_label))\n",
    "    plt.ylabel('{} accs'.format(y_label))\n",
    "    plt.xlim(0, 1)\n",
    "    plt.ylim(0, 1)\n",
    "    plt.figure(figsize=(1000,1000))\n",
    "    plt.show()"
   ]
  },
  {
   "cell_type": "code",
   "execution_count": 50,
   "metadata": {},
   "outputs": [],
   "source": [
    "X, Y = get_X_Y(accs1, accs2, subject, voxels_type)"
   ]
  },
  {
   "cell_type": "code",
   "execution_count": 51,
   "metadata": {},
   "outputs": [
    {
     "data": {
      "image/png": "[encoded data removed]",
      "text/plain": [
       "<Figure size 432x288 with 1 Axes>"
      ]
     },
     "metadata": {
      "needs_background": "light"
     },
     "output_type": "display_data"
    },
    {
     "data": {
      "text/plain": [
       "<Figure size 72000x72000 with 0 Axes>"
      ]
     },
     "metadata": {},
     "output_type": "display_data"
    }
   ],
   "source": [
    "plot_accuracies(X, Y, subject, voxels_type, model1, model2)"
   ]
  },
  {
   "cell_type": "code",
   "execution_count": null,
   "metadata": {},
   "outputs": [],
   "source": []
  }
 ],
 "metadata": {
  "kernelspec": {
   "display_name": "env",
   "language": "python",
   "name": "env"
  },
  "language_info": {
   "codemirror_mode": {
    "name": "ipython",
    "version": 3
   },
   "file_extension": ".py",
   "mimetype": "text/x-python",
   "name": "python",
   "nbconvert_exporter": "python",
   "pygments_lexer": "ipython3",
   "version": "3.7.3"
  }
 },
 "nbformat": 4,
 "nbformat_minor": 4
}
